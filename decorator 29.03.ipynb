{
 "cells": [
  {
   "cell_type": "code",
   "execution_count": 7,
   "id": "a380df0d",
   "metadata": {},
   "outputs": [],
   "source": [
    "def ubs_data_transfer():\n",
    "    print(\"connection establishment\")\n",
    "    print(\"UBS data transferred\")\n",
    "    print(\"connection termination\")\n",
    "def barclays_data_transfer():\n",
    "    print(\"connection establishment\")\n",
    "    print(\"BARCLYAS data transferred\")\n",
    "    print(\"connection termination\")\n",
    "def sbi_data_transfer():\n",
    "    print(\"connection establishment\")\n",
    "    print(\"SBIdata transferred\")\n",
    "    print(\"connection termination\")\n",
    "    "
   ]
  },
  {
   "cell_type": "code",
   "execution_count": 11,
   "id": "c47a429d",
   "metadata": {},
   "outputs": [
    {
     "name": "stdout",
     "output_type": "stream",
     "text": [
      "connection establishment\n",
      "UBS data transferred\n",
      "connection termination\n",
      "connection establishment\n",
      "BARCLYAS data transferred\n",
      "connection termination\n",
      "connection establishment\n",
      "SBIdata transferred\n",
      "connection termination\n"
     ]
    }
   ],
   "source": [
    " ubs_data_transfer()\n",
    "barclays_data_transfer()\n",
    "sbi_data_transfer()"
   ]
  },
  {
   "cell_type": "code",
   "execution_count": 13,
   "id": "28140667",
   "metadata": {},
   "outputs": [],
   "source": [
    "def decor(fun):\n",
    "    def inner():\n",
    "        print(\"connection establishment\")\n",
    "        fun()\n",
    "        print(\"connection termination\")\n",
    "    return inner\n",
    "        \n",
    "        "
   ]
  },
  {
   "cell_type": "code",
   "execution_count": 25,
   "id": "850e8449",
   "metadata": {},
   "outputs": [],
   "source": [
    "@decor\n",
    "def ubs_data_transfer():\n",
    "    print(\"UBS data Transferred\")\n",
    "@decor\n",
    "def barclays_data_transfer():\n",
    "    print(\"BARCLAYS data Transferred\")\n",
    "@decor\n",
    "def sbi_data_transfer():\n",
    "    print(\"SBI data Transferred\")"
   ]
  },
  {
   "cell_type": "code",
   "execution_count": 26,
   "id": "181e6bf1",
   "metadata": {},
   "outputs": [
    {
     "name": "stdout",
     "output_type": "stream",
     "text": [
      "connection establishment\n",
      "UBS data Transferred\n",
      "connection termination\n",
      "connection establishment\n",
      "SBI data Transferred\n",
      "connection termination\n",
      "connection establishment\n",
      "BARCLAYS data Transferred\n",
      "connection termination\n"
     ]
    }
   ],
   "source": [
    "ubs_data_transfer()\n",
    "sbi_data_transfer()\n",
    "barclays_data_transfer()"
   ]
  },
  {
   "cell_type": "code",
   "execution_count": 44,
   "id": "fc97a722",
   "metadata": {},
   "outputs": [],
   "source": [
    "def temp(fun):\n",
    "    def inner():\n",
    "        print(\" * \"*15)\n",
    "        fun()\n",
    "        print(\" * \"*15)\n",
    "    return inner"
   ]
  },
  {
   "cell_type": "code",
   "execution_count": 45,
   "id": "dd758f22",
   "metadata": {},
   "outputs": [],
   "source": [
    "@decor\n",
    "@temp\n",
    "def ubs_data_transfer():\n",
    "    print(\"UBS data Transferred\")\n",
    "@decor\n",
    "def barclays_data_transfer():\n",
    "    print(\"BARCLAYS data Transferred\")\n",
    "@decor\n",
    "def sbi_data_transfer():\n",
    "    print(\"SBI data Transferred\")"
   ]
  },
  {
   "cell_type": "code",
   "execution_count": 46,
   "id": "257d0620",
   "metadata": {},
   "outputs": [
    {
     "name": "stdout",
     "output_type": "stream",
     "text": [
      "connection establishment\n",
      " *  *  *  *  *  *  *  *  *  *  *  *  *  *  * \n",
      "UBS data Transferred\n",
      " *  *  *  *  *  *  *  *  *  *  *  *  *  *  * \n",
      "connection termination\n",
      "connection establishment\n",
      "SBI data Transferred\n",
      "connection termination\n",
      "connection establishment\n",
      "BARCLAYS data Transferred\n",
      "connection termination\n"
     ]
    }
   ],
   "source": [
    "ubs_data_transfer()\n",
    "sbi_data_transfer()\n",
    "barclays_data_transfer()"
   ]
  },
  {
   "cell_type": "code",
   "execution_count": 47,
   "id": "aff1e4a2",
   "metadata": {},
   "outputs": [],
   "source": [
    "@temp\n",
    "@decor\n",
    "#@temp\n",
    "def ubs_data_transfer():\n",
    "    print(\"UBS data Transferred\")"
   ]
  },
  {
   "cell_type": "code",
   "execution_count": 48,
   "id": "8c46cade",
   "metadata": {},
   "outputs": [
    {
     "name": "stdout",
     "output_type": "stream",
     "text": [
      " *  *  *  *  *  *  *  *  *  *  *  *  *  *  * \n",
      "connection establishment\n",
      "UBS data Transferred\n",
      "connection termination\n",
      " *  *  *  *  *  *  *  *  *  *  *  *  *  *  * \n"
     ]
    }
   ],
   "source": [
    "ubs_data_transfer()"
   ]
  },
  {
   "cell_type": "code",
   "execution_count": null,
   "id": "b3534ddd",
   "metadata": {},
   "outputs": [],
   "source": []
  },
  {
   "cell_type": "code",
   "execution_count": 54,
   "id": "06a83734",
   "metadata": {},
   "outputs": [],
   "source": [
    "@temp\n",
    "@decor\n",
    "def sbi_data_transfer():\n",
    "    print(\"SBI data Transferred\")"
   ]
  },
  {
   "cell_type": "code",
   "execution_count": 55,
   "id": "d604033b",
   "metadata": {},
   "outputs": [
    {
     "name": "stdout",
     "output_type": "stream",
     "text": [
      " *  *  *  *  *  *  *  *  *  *  *  *  *  *  * \n",
      "connection establishment\n",
      "SBI data Transferred\n",
      "connection termination\n",
      " *  *  *  *  *  *  *  *  *  *  *  *  *  *  * \n"
     ]
    }
   ],
   "source": [
    "#@decor\n",
    "sbi_data_transfer()"
   ]
  },
  {
   "cell_type": "code",
   "execution_count": null,
   "id": "0c85a6b8",
   "metadata": {},
   "outputs": [],
   "source": []
  },
  {
   "cell_type": "code",
   "execution_count": 57,
   "id": "85c9c2db",
   "metadata": {},
   "outputs": [],
   "source": [
    "@temp\n",
    "@decor\n",
    "def icici_data_transfer():\n",
    "    print(\"ICICI data Transferred\")"
   ]
  },
  {
   "cell_type": "code",
   "execution_count": 58,
   "id": "2fa359b4",
   "metadata": {},
   "outputs": [
    {
     "name": "stdout",
     "output_type": "stream",
     "text": [
      " *  *  *  *  *  *  *  *  *  *  *  *  *  *  * \n",
      "connection establishment\n",
      "ICICI data Transferred\n",
      "connection termination\n",
      " *  *  *  *  *  *  *  *  *  *  *  *  *  *  * \n"
     ]
    }
   ],
   "source": [
    "icici_data_transfer()"
   ]
  },
  {
   "cell_type": "code",
   "execution_count": null,
   "id": "86cab08d",
   "metadata": {},
   "outputs": [],
   "source": []
  },
  {
   "cell_type": "code",
   "execution_count": null,
   "id": "b4c6420f",
   "metadata": {},
   "outputs": [],
   "source": []
  },
  {
   "cell_type": "code",
   "execution_count": null,
   "id": "4f32fc0f",
   "metadata": {},
   "outputs": [],
   "source": []
  },
  {
   "cell_type": "code",
   "execution_count": null,
   "id": "7e2d45be",
   "metadata": {},
   "outputs": [],
   "source": []
  },
  {
   "cell_type": "code",
   "execution_count": null,
   "id": "47e2c007",
   "metadata": {},
   "outputs": [],
   "source": []
  },
  {
   "cell_type": "code",
   "execution_count": null,
   "id": "37072c13",
   "metadata": {},
   "outputs": [],
   "source": []
  },
  {
   "cell_type": "code",
   "execution_count": null,
   "id": "0acfccf4",
   "metadata": {},
   "outputs": [],
   "source": []
  },
  {
   "cell_type": "code",
   "execution_count": null,
   "id": "369453c8",
   "metadata": {},
   "outputs": [],
   "source": []
  },
  {
   "cell_type": "code",
   "execution_count": null,
   "id": "357d5fb0",
   "metadata": {},
   "outputs": [],
   "source": []
  },
  {
   "cell_type": "code",
   "execution_count": null,
   "id": "34df38ff",
   "metadata": {},
   "outputs": [],
   "source": []
  },
  {
   "cell_type": "code",
   "execution_count": null,
   "id": "27b53d1a",
   "metadata": {},
   "outputs": [],
   "source": []
  },
  {
   "cell_type": "code",
   "execution_count": null,
   "id": "26513f26",
   "metadata": {},
   "outputs": [],
   "source": []
  },
  {
   "cell_type": "code",
   "execution_count": null,
   "id": "d69be3ec",
   "metadata": {},
   "outputs": [],
   "source": []
  },
  {
   "cell_type": "code",
   "execution_count": null,
   "id": "d4d8997a",
   "metadata": {},
   "outputs": [],
   "source": []
  }
 ],
 "metadata": {
  "kernelspec": {
   "display_name": "Python 3 (ipykernel)",
   "language": "python",
   "name": "python3"
  },
  "language_info": {
   "codemirror_mode": {
    "name": "ipython",
    "version": 3
   },
   "file_extension": ".py",
   "mimetype": "text/x-python",
   "name": "python",
   "nbconvert_exporter": "python",
   "pygments_lexer": "ipython3",
   "version": "3.9.13"
  }
 },
 "nbformat": 4,
 "nbformat_minor": 5
}
